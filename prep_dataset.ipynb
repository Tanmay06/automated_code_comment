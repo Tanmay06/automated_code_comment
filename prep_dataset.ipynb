{
 "cells": [
  {
   "cell_type": "code",
   "execution_count": 78,
   "metadata": {},
   "outputs": [],
   "source": [
    "import re\n",
    "import csv\n",
    "from pathlib import Path\n",
    "\n",
    "from datasets import load_dataset"
   ]
  },
  {
   "cell_type": "code",
   "execution_count": 3,
   "metadata": {},
   "outputs": [],
   "source": [
    "dataset = load_dataset(\"code_search_net\", streaming=True)"
   ]
  },
  {
   "cell_type": "code",
   "execution_count": 48,
   "metadata": {},
   "outputs": [],
   "source": [
    "def remove_comments_and_docstrings(sample):\n",
    "    \"\"\"\n",
    "    Removes all comments and docstrings from the provided Python code.\n",
    "\n",
    "    Args:\n",
    "        code (str): The Python code to be cleaned.\n",
    "\n",
    "    Returns:\n",
    "        str: The cleaned Python code without comments or docstrings.\n",
    "    \"\"\"\n",
    "\n",
    "    # Remove single-line comments\n",
    "    sample[\"func_code_string\"] = re.sub(r\"//.*?\\n\", \"\", sample[\"func_code_string\"])\n",
    "\n",
    "    # Remove multi-line comments\n",
    "    sample[\"func_code_string\"] = re.sub(r\"/\\*.*?\\*/\", \"\", sample[\"func_code_string\"], flags=re.DOTALL)\n",
    "\n",
    "    # Remove docstrings\n",
    "    sample[\"func_code_string\"] = re.sub(r'\"\"\".*?\"\"\"', \"\", sample[\"func_code_string\"], flags=re.DOTALL)\n",
    "    sample[\"func_code_string\"] = re.sub(r\"''.*?''\", \"\", sample[\"func_code_string\"], flags=re.DOTALL)\n",
    "\n",
    "    return sample"
   ]
  },
  {
   "cell_type": "code",
   "execution_count": 49,
   "metadata": {},
   "outputs": [],
   "source": [
    "dataset = dataset.filter(\n",
    "    lambda example : example['language'] == \"python\"\n",
    "    ).map(\n",
    "        remove_comments_and_docstrings\n",
    "    )"
   ]
  },
  {
   "cell_type": "code",
   "execution_count": 74,
   "metadata": {},
   "outputs": [],
   "source": [
    "data_iter = iter(dataset['test'])"
   ]
  },
  {
   "cell_type": "code",
   "execution_count": 75,
   "metadata": {},
   "outputs": [],
   "source": [
    "sample = next(data_iter)"
   ]
  },
  {
   "cell_type": "code",
   "execution_count": 76,
   "metadata": {},
   "outputs": [
    {
     "name": "stdout",
     "output_type": "stream",
     "text": [
      "def get_vid_from_url(url):\n",
      "        \n",
      "        return match1(url, r'youtu\\.be/([^?/]+)') or \\\n",
      "          match1(url, r'youtube\\.com/embed/([^/?]+)') or \\\n",
      "          match1(url, r'youtube\\.com/v/([^/?]+)') or \\\n",
      "          match1(url, r'youtube\\.com/watch/([^/?]+)') or \\\n",
      "          parse_query_param(url, 'v') or \\\n",
      "          parse_query_param(parse_query_param(url, 'u'), 'v')\n"
     ]
    }
   ],
   "source": [
    "print(sample[\"func_code_string\"])"
   ]
  },
  {
   "cell_type": "code",
   "execution_count": 84,
   "metadata": {},
   "outputs": [],
   "source": [
    "outpath = Path(\"/home/thv200000/projects/automated_code_comment/data\")\n",
    "with open (outpath / \"python_comments_train.csv\", 'w') as test_file:\n",
    "    fieldnames = ['code', 'comment']\n",
    "    writer = csv.DictWriter(test_file, fieldnames=fieldnames)\n",
    "    writer.writeheader()\n",
    "    for i, sample in enumerate(dataset[\"train\"]):\n",
    "        if i == 1000:\n",
    "            break\n",
    "        writer.writerow({\n",
    "            \"code\": sample[\"func_code_string\"],\n",
    "            \"comment\":sample[\"func_documentation_string\"]\n",
    "        })"
   ]
  },
  {
   "cell_type": "code",
   "execution_count": null,
   "metadata": {},
   "outputs": [],
   "source": []
  }
 ],
 "metadata": {
  "kernelspec": {
   "display_name": "code_gen",
   "language": "python",
   "name": "python3"
  },
  "language_info": {
   "codemirror_mode": {
    "name": "ipython",
    "version": 3
   },
   "file_extension": ".py",
   "mimetype": "text/x-python",
   "name": "python",
   "nbconvert_exporter": "python",
   "pygments_lexer": "ipython3",
   "version": "3.10.6"
  }
 },
 "nbformat": 4,
 "nbformat_minor": 2
}
