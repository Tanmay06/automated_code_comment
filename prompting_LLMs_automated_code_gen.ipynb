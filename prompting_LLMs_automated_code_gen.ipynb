{
  "nbformat": 4,
  "nbformat_minor": 0,
  "metadata": {
    "colab": {
      "provenance": [],
      "mount_file_id": "1bjkWlF7birOyTvFXwlTYWhrzAQ8rqX_J",
      "authorship_tag": "ABX9TyNoxKMBGQH2ugqm3nSN3V39",
      "include_colab_link": true
    },
    "kernelspec": {
      "name": "python3",
      "display_name": "Python 3"
    },
    "language_info": {
      "name": "python"
    }
  },
  "cells": [
    {
      "cell_type": "markdown",
      "metadata": {
        "id": "view-in-github",
        "colab_type": "text"
      },
      "source": [
        "<a href=\"https://colab.research.google.com/github/Tanmay06/automated_code_comment/blob/main/prompting_LLMs_automated_code_gen.ipynb\" target=\"_parent\"><img src=\"https://colab.research.google.com/assets/colab-badge.svg\" alt=\"Open In Colab\"/></a>"
      ]
    },
    {
      "cell_type": "code",
      "execution_count": null,
      "metadata": {
        "id": "H_oihhhkjMr3"
      },
      "outputs": [],
      "source": []
    }
  ]
}